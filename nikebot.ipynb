{
 "cells": [
  {
   "cell_type": "markdown",
   "metadata": {},
   "source": [
    "## 로그인"
   ]
  },
  {
   "cell_type": "code",
   "execution_count": 113,
   "metadata": {},
   "outputs": [],
   "source": [
    "import requests\n",
    "from bs4 import BeautifulSoup as bs"
   ]
  },
  {
   "cell_type": "code",
   "execution_count": 182,
   "metadata": {},
   "outputs": [],
   "source": [
    "# 로그인할 유저정보를 넣어줍시다. (모두 문자열입니다!)\n",
    "LOGIN_INFO = {\n",
    "    'locale': 'ko_KR',\n",
    "    'dynamicForm' : 'login',\n",
    "    'templatePath': '/authentication/login',\n",
    "    #'successUrl' : '/',\n",
    "    'userId': '',\n",
    "    'j_username': 'zzz5712',\n",
    "    'j_password': '!Vkxqud1004',\n",
    "    'breeze-me': 'on'\n",
    "}"
   ]
  },
  {
   "cell_type": "code",
   "execution_count": 163,
   "metadata": {},
   "outputs": [],
   "source": [
    "login_header = {\n",
    "    'postman-token': '0a101b18-8933-4834-e4a3-63468bec2ff9',\n",
    "    'cache-control': 'no-cache',\n",
    "    'referer': 'https://www.nike.com/kr/ko_kr/login',\n",
    "    'content-type': 'application/x-www-form-urlencoded',\n",
    "    'x-requested-with': 'XMLHttpRequest'\n",
    "}"
   ]
  },
  {
   "cell_type": "code",
   "execution_count": null,
   "metadata": {},
   "outputs": [],
   "source": [
    " headers = {'User-Agent': 'Mozilla/5.0 (Windows NT 10.0; Win64; x64) AppleWebKit/537.36 (KHTML, like Gecko) Chrome/69.0.3497.100 Safari/537.36'}"
   ]
  },
  {
   "cell_type": "code",
   "execution_count": 281,
   "metadata": {},
   "outputs": [],
   "source": [
    "priority_size = [260, 265, 270, 255, 275, 280, 250, 285, 290]"
   ]
  },
  {
   "cell_type": "code",
   "execution_count": 284,
   "metadata": {},
   "outputs": [],
   "source": [
    "europe_size = {240 : 35, 245 : 36, 250 : 38, 255:39, 260:42, 265:43, 270:46, 275:47, 280:50, 285:51, 290:54, 295:55, 300:58, 305:59, 310:62, 320:66}"
   ]
  },
  {
   "cell_type": "code",
   "execution_count": 196,
   "metadata": {},
   "outputs": [
    {
     "name": "stdout",
     "output_type": "stream",
     "text": [
      "{'locale': 'ko_KR', 'dynamicForm': 'login', 'templatePath': '/authentication/login', 'userId': '', 'j_username': 'zzz5712', 'j_password': '!Vkxqud1004', 'breeze-me': 'on', 'csrfToken': 'YXGK-85SE-7Z02-XEEU-R0I1-4NA3-TAPR-VKGO'}\n"
     ]
    }
   ],
   "source": [
    "with requests.Session() as sess:\n",
    "    # HTTP GET Request: requests대신 sess 객체를 사용한다.\n",
    "   \n",
    "    login_page = sess.get( url='https://www.nike.com/kr/ko_kr/login?successUrl=/', headers = headers) #한국 나이키 서버는 헤더가 없는 요청을 거부\n",
    "    html = login_page.text\n",
    "    soup = bs(html, 'html.parser')\n",
    "    csrf = soup.find('input', {'name': 'csrfToken'})\n",
    "    LOGIN_INFO = {**LOGIN_INFO, **{'csrfToken': csrf['value']}}\n",
    "    print(LOGIN_INFO)\n"
   ]
  },
  {
   "cell_type": "code",
   "execution_count": 202,
   "metadata": {},
   "outputs": [],
   "source": [
    "login_req = sess.post('https://www.nike.com/kr/ko_kr/login_post.htm', data=LOGIN_INFO, headers=login_header)\n",
    "if login_req.status_code != 200: #status_code type is int\n",
    "     raise Exception(\"Login Failed\")"
   ]
  },
  {
   "cell_type": "markdown",
   "metadata": {},
   "source": [
    "## 링크 접속"
   ]
  },
  {
   "cell_type": "code",
   "execution_count": 203,
   "metadata": {},
   "outputs": [
    {
     "name": "stdout",
     "output_type": "stream",
     "text": [
      "early link, please : https://www.nike.com/kr/ko_kr/t/men/fw/nike-sportswear/924453-012/momq00/air-vapormax-plus\n"
     ]
    }
   ],
   "source": [
    "early_link = input('early link, please : ')"
   ]
  },
  {
   "cell_type": "code",
   "execution_count": 253,
   "metadata": {},
   "outputs": [],
   "source": [
    "product_req = sess.get(early_link, headers=headers)\n",
    "product_soup = bs(product_req.text, 'html.parser')"
   ]
  },
  {
   "cell_type": "markdown",
   "metadata": {},
   "source": [
    "## 수량확인"
   ]
  },
  {
   "cell_type": "code",
   "execution_count": 287,
   "metadata": {},
   "outputs": [],
   "source": [
    "order_info = {'itemAttributes[FW_SIZE]': '', # 260\n",
    "    'SIZE': '', #42\n",
    "    'quantity': '1',\n",
    "    'fType': 'PHYSICAL_SHIP',\n",
    "    'csrfToken': '', \n",
    "    'productId':  ''} #10000008780"
   ]
  },
  {
   "cell_type": "code",
   "execution_count": 288,
   "metadata": {},
   "outputs": [],
   "source": [
    "order_info['productId'] = product_soup.find('a', {'class':'review-write-btn'})['data-productid']"
   ]
  },
  {
   "cell_type": "code",
   "execution_count": 322,
   "metadata": {},
   "outputs": [],
   "source": [
    "#product_DB = sess.get('https://www.nike.com/kr/ko_kr/productSkuInventory?productId='+product_soup.find('input', {'name':'productId'})['value'], headers={'Referer' : early_link})\n",
    "product_DB = sess.get('https://www.nike.com/kr/ko_kr/productSkuInventory?productId='+order_info['productId'], headers={'Referer' : early_link})\n",
    "\n",
    "product_DB = product_DB.json()"
   ]
  },
  {
   "cell_type": "code",
   "execution_count": 290,
   "metadata": {},
   "outputs": [],
   "source": [
    "def select_size(product_DB = product_DB, priority_size=priority_size):\n",
    "    for item in priority_size:\n",
    "        number = int((int(item) - 240)/5)\n",
    "        #print(item)\n",
    "        #print(product_DB['skuPricing'][number]['quantity'])\n",
    "        if  0 != product_DB['skuPricing'][number]['quantity']:\n",
    "            return item"
   ]
  },
  {
   "cell_type": "code",
   "execution_count": 291,
   "metadata": {
    "scrolled": true
   },
   "outputs": [],
   "source": [
    "order_info['csrfToken'] = pl_soup.find('input', {'name': 'csrfToken'})\n",
    "order_info['itemAttributes[FW_SIZE]'] = select_size()\n",
    "order_info['SIZE'] = europe_size[select_size()]"
   ]
  },
  {
   "cell_type": "code",
   "execution_count": 353,
   "metadata": {},
   "outputs": [],
   "source": [
    "order_headers = {\n",
    "    'accept': 'application/json, text/javascript, */*; q=0.01',\n",
    "    'accept-encoding': 'gzip, deflate, br',\n",
    "    #'content-type': 'application/x-www-form-urlencoded; charset=UTF-8',\n",
    "    'referer' : early_link,\n",
    "    #'user-agent': 'Mozilla/5.0 (Windows NT 10.0; Win64; x64) AppleWebKit/537.36 (KHTML, like Gecko) Chrome/69.0.3497.100 Safari/537.36',\n",
    "    #'origin': 'https://www.nike.com'\n",
    "}"
   ]
  },
  {
   "cell_type": "code",
   "execution_count": 354,
   "metadata": {},
   "outputs": [],
   "source": [
    "order_req = sess.post('https://www.nike.com/kr/ko_kr/cart/add?directOrder=true', data=order_info, headers=order_headers)"
   ]
  },
  {
   "cell_type": "code",
   "execution_count": 355,
   "metadata": {},
   "outputs": [
    {
     "data": {
      "text/plain": [
       "500"
      ]
     },
     "execution_count": 355,
     "metadata": {},
     "output_type": "execute_result"
    }
   ],
   "source": [
    "order_req.status_code"
   ]
  },
  {
   "cell_type": "code",
   "execution_count": null,
   "metadata": {},
   "outputs": [],
   "source": []
  }
 ],
 "metadata": {
  "kernelspec": {
   "display_name": "Python 3",
   "language": "python",
   "name": "python3"
  },
  "language_info": {
   "codemirror_mode": {
    "name": "ipython",
    "version": 3
   },
   "file_extension": ".py",
   "mimetype": "text/x-python",
   "name": "python",
   "nbconvert_exporter": "python",
   "pygments_lexer": "ipython3",
   "version": "3.6.4"
  }
 },
 "nbformat": 4,
 "nbformat_minor": 2
}
