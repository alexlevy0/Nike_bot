{
 "cells": [
  {
   "cell_type": "markdown",
   "metadata": {},
   "source": [
    "## 로그인"
   ]
  },
  {
   "cell_type": "code",
   "execution_count": 511,
   "metadata": {},
   "outputs": [],
   "source": [
    "import requests\n",
    "from bs4 import BeautifulSoup as bs"
   ]
  },
  {
   "cell_type": "code",
   "execution_count": 512,
   "metadata": {},
   "outputs": [],
   "source": [
    "# 로그인할 유저정보를 넣어줍시다. (모두 문자열입니다!)\n",
    "LOGIN_INFO = {\n",
    "    'locale': 'ko_KR',\n",
    "    'dynamicForm' : 'login',\n",
    "    'templatePath': '/authentication/login',\n",
    "    #'successUrl' : '/',\n",
    "    'userId': '',\n",
    "    'j_username': 'zzz5712',\n",
    "    'j_password': '!Vkxqud1004',\n",
    "    'breeze-me': 'on'\n",
    "}"
   ]
  },
  {
   "cell_type": "code",
   "execution_count": 513,
   "metadata": {},
   "outputs": [],
   "source": [
    "login_header = {\n",
    "    'postman-token': '0a101b18-8933-4834-e4a3-63468bec2ff9',\n",
    "    'cache-control': 'no-cache',\n",
    "    'referer': 'https://www.nike.com/kr/ko_kr/login',\n",
    "    'content-type': 'application/x-www-form-urlencoded',\n",
    "    'x-requested-with': 'XMLHttpRequest'\n",
    "}"
   ]
  },
  {
   "cell_type": "code",
   "execution_count": 514,
   "metadata": {},
   "outputs": [],
   "source": [
    " headers = {'User-Agent': 'Mozilla/5.0 (Windows NT 10.0; Win64; x64) AppleWebKit/537.36 (KHTML, like Gecko) Chrome/69.0.3497.100 Safari/537.36'}"
   ]
  },
  {
   "cell_type": "code",
   "execution_count": 515,
   "metadata": {},
   "outputs": [],
   "source": [
    "priority_size = [260, 265, 270, 255, 275, 280, 250, 285, 290]"
   ]
  },
  {
   "cell_type": "code",
   "execution_count": 516,
   "metadata": {},
   "outputs": [],
   "source": [
    "europe_size = {240 : 35, 245 : 36, 250 : 38, 255:39, 260:42, 265:43, 270:46, 275:47, 280:50, 285:51, 290:54, 295:55, 300:58, 305:59, 310:62, 320:66}"
   ]
  },
  {
   "cell_type": "code",
   "execution_count": 517,
   "metadata": {},
   "outputs": [
    {
     "name": "stdout",
     "output_type": "stream",
     "text": [
      "{'locale': 'ko_KR', 'dynamicForm': 'login', 'templatePath': '/authentication/login', 'userId': '', 'j_username': 'zzz5712', 'j_password': '!Vkxqud1004', 'breeze-me': 'on', 'csrfToken': '5LDU-ZDLW-LPQD-NZ1Q-92UZ-UP40-7EU8-NQY0'}\n"
     ]
    }
   ],
   "source": [
    "with requests.Session() as sess:\n",
    "    # HTTP GET Request: requests대신 sess 객체를 사용한다.\n",
    "   \n",
    "    login_page = sess.get( url='https://www.nike.com/kr/ko_kr/login?successUrl=/', headers = headers) #한국 나이키 서버는 헤더가 없는 요청을 거부\n",
    "    html = login_page.text\n",
    "    soup = bs(html, 'html.parser')\n",
    "    csrf = soup.find('input', {'name': 'csrfToken'})\n",
    "    LOGIN_INFO = {**LOGIN_INFO, **{'csrfToken': csrf['value']}}\n",
    "    print(LOGIN_INFO)\n"
   ]
  },
  {
   "cell_type": "code",
   "execution_count": 518,
   "metadata": {},
   "outputs": [],
   "source": [
    "login_req = sess.post('https://www.nike.com/kr/ko_kr/login_post.htm', data=LOGIN_INFO, headers=login_header)\n",
    "if login_req.status_code != 200: #status_code type is int\n",
    "     raise Exception(\"Login Failed\")"
   ]
  },
  {
   "cell_type": "markdown",
   "metadata": {},
   "source": [
    "## 링크 접속"
   ]
  },
  {
   "cell_type": "code",
   "execution_count": 520,
   "metadata": {},
   "outputs": [
    {
     "name": "stdout",
     "output_type": "stream",
     "text": [
      "early link, please : https://www.nike.com/kr/ko_kr/t/men/fw/nike-sportswear/343880-015/qmsk39/benassi-jdi\n"
     ]
    }
   ],
   "source": [
    "early_link = input('early link, please : ')"
   ]
  },
  {
   "cell_type": "markdown",
   "metadata": {},
   "source": [
    "# 장바구니 담는 모든 일련의 과정을 여기서부터 한번에 수행해야함"
   ]
  },
  {
   "cell_type": "code",
   "execution_count": 661,
   "metadata": {},
   "outputs": [],
   "source": [
    "product_req = sess.get(early_link, headers=headers)\n",
    "product_soup = bs(product_req.text, 'html.parser')"
   ]
  },
  {
   "cell_type": "markdown",
   "metadata": {},
   "source": [
    "## 수량확인"
   ]
  },
  {
   "cell_type": "code",
   "execution_count": 662,
   "metadata": {},
   "outputs": [],
   "source": [
    "order_info = {'itemAttributes[FW_SIZE]': '', # 260\n",
    "    'SIZE': '', #42\n",
    "    'quantity': '1',\n",
    "    'fType': 'PHYSICAL_SHIP',\n",
    "    'csrfToken': '', \n",
    "    'productId':  ''} #10000008780"
   ]
  },
  {
   "cell_type": "code",
   "execution_count": 663,
   "metadata": {},
   "outputs": [],
   "source": [
    "order_info['productId'] = product_soup.find('a', {'class':'review-write-btn'})['data-productid']"
   ]
  },
  {
   "cell_type": "code",
   "execution_count": 664,
   "metadata": {},
   "outputs": [],
   "source": [
    "#product_DB = sess.get('https://www.nike.com/kr/ko_kr/productSkuInventory?productId='+product_soup.find('input', {'name':'productId'})['value'], headers={'Referer' : early_link})\n",
    "product_DB = sess.get('https://www.nike.com/kr/ko_kr/productSkuInventory?productId='+order_info['productId'], headers={'Referer' : early_link})\n",
    "\n",
    "product_DB = product_DB.json()"
   ]
  },
  {
   "cell_type": "code",
   "execution_count": 665,
   "metadata": {},
   "outputs": [],
   "source": [
    "def select_size(product_DB = product_DB, priority_size=priority_size):\n",
    "    for item in priority_size:\n",
    "        number = int((int(item) - 240)/5)\n",
    "        #print(item)\n",
    "        #print(product_DB['skuPricing'][number]['quantity'])\n",
    "        if  0 != product_DB['skuPricing'][number]['quantity']:\n",
    "            return item"
   ]
  },
  {
   "cell_type": "code",
   "execution_count": 666,
   "metadata": {
    "scrolled": true
   },
   "outputs": [],
   "source": [
    "order_info['csrfToken'] = product_soup.find('input', {'name': 'csrfToken'})['value']\n",
    "order_info['itemAttributes[FW_SIZE]'] = select_size()\n",
    "order_info['SIZE'] = europe_size[select_size()]"
   ]
  },
  {
   "cell_type": "code",
   "execution_count": 667,
   "metadata": {},
   "outputs": [],
   "source": [
    "order_headers = {\n",
    "    'Accept': 'application/json, text/javascript, */*; q=0.01',\n",
    "    #'content-type': 'application/x-www-form-urlencoded; charset=UTF-8',\n",
    "    'Referer' : early_link,\n",
    "    #'user-agent': 'Mozilla/5.0 (Windows NT 10.0; Win64; x64) AppleWebKit/537.36 (KHTML, like Gecko) Chrome/69.0.3497.100 Safari/537.36',\n",
    "    #'origin': 'https://www.nike.com'\n",
    "}"
   ]
  },
  {
   "cell_type": "code",
   "execution_count": 668,
   "metadata": {},
   "outputs": [],
   "source": [
    "order_req = sess.post('https://www.nike.com/kr/ko_kr/cart/add?directOrder=true', data=order_info, headers=order_headers)"
   ]
  },
  {
   "cell_type": "code",
   "execution_count": 669,
   "metadata": {},
   "outputs": [
    {
     "data": {
      "text/plain": [
       "200"
      ]
     },
     "execution_count": 669,
     "metadata": {},
     "output_type": "execute_result"
    }
   ],
   "source": [
    "order_req.status_code"
   ]
  },
  {
   "cell_type": "code",
   "execution_count": 670,
   "metadata": {},
   "outputs": [],
   "source": [
    "checkout_req = sess.get('https://www.nike.com/kr/ko_kr/checkout', headers = headers)"
   ]
  },
  {
   "cell_type": "code",
   "execution_count": 671,
   "metadata": {},
   "outputs": [],
   "source": [
    "checkout_soupsoup = bs(checkout_req.text, 'html.parser')"
   ]
  },
  {
   "cell_type": "code",
   "execution_count": 672,
   "metadata": {},
   "outputs": [],
   "source": [
    "order_req = sess.post('https://www.nike.com/kr/ko_kr/checkout/singleship', data=order_info, headers=order_headers)"
   ]
  },
  {
   "cell_type": "code",
   "execution_count": 673,
   "metadata": {},
   "outputs": [],
   "source": [
    "shipping_info = {\n",
    "    'address.isoCountryAlpha2': checkout_soupsoup.find('input', {'name':'address.isoCountryAlpha2'})['value'],\n",
    "    'isSearchAddress': 'true',\n",
    "    'address.fullName': checkout_soupsoup.find('input', {'name':'address.fullName'})['value'],\n",
    "    'address.phonePrimary.phoneNumber': checkout_soupsoup.find('input', {'name':'address.phonePrimary.phoneNumber'})['value'],\n",
    "    'address.addressLine1': checkout_soupsoup.find('input', {'name':'address.addressLine1'})['value'],\n",
    "    'address.addressLine2': checkout_soupsoup.find('input', {'name':'address.addressLine2'})['value'],\n",
    "    'address.postalCode': checkout_soupsoup.find('input', {'name':'address.postalCode'})['value'],\n",
    "    'selectPersonalMessage': '',\n",
    "    'personalMessageText': '',\n",
    "    'fulfillmentOptionId': '1',\n",
    "    'csrfToken': checkout_soupsoup.find('input', {'name':'csrfToken'})['value']\n",
    "}"
   ]
  },
  {
   "cell_type": "code",
   "execution_count": 674,
   "metadata": {},
   "outputs": [],
   "source": [
    "shipping_headers ={\n",
    "    'referer': 'https://www.nike.com/kr/ko_kr/checkout',\n",
    "    'user-agent': 'Mozilla/5.0 (Windows NT 10.0; Win64; x64) AppleWebKit/537.36 (KHTML, like Gecko) Chrome/69.0.3497.100 Safari/537.36'\n",
    "}"
   ]
  },
  {
   "cell_type": "code",
   "execution_count": 675,
   "metadata": {},
   "outputs": [],
   "source": [
    "shipping_req = sess.post('https://www.nike.com/kr/ko_kr/checkout/singleship', data=shipping_info, headers=shipping_headers)"
   ]
  },
  {
   "cell_type": "code",
   "execution_count": 676,
   "metadata": {},
   "outputs": [],
   "source": [
    "shipping_soup = bs(shipping_req.text, 'html.parser')"
   ]
  },
  {
   "cell_type": "code",
   "execution_count": 677,
   "metadata": {},
   "outputs": [],
   "source": [
    "checkout_req = sess.get('https://www.nike.com/kr/ko_kr/checkout/request?pay_method=point', headers = shipping_headers)\n",
    "if checkout_req.status_code != 200:\n",
    "    raise Exception(\"Payment Failed\")"
   ]
  },
  {
   "cell_type": "code",
   "execution_count": 678,
   "metadata": {},
   "outputs": [
    {
     "data": {
      "text/plain": [
       "{\"isError\":false,\"total_amount\":{\"amount\":27300,\"currency\":\"KRW\"}}"
      ]
     },
     "execution_count": 678,
     "metadata": {},
     "output_type": "execute_result"
    }
   ],
   "source": [
    "checkout_soup = bs(checkout_req.text, 'html.parser')\n",
    "checkout_soup"
   ]
  },
  {
   "cell_type": "code",
   "execution_count": 679,
   "metadata": {},
   "outputs": [],
   "source": [
    "uinfo_info = {\n",
    "    'tel': '01096395712',\n",
    "    'birthDate': '900806'\n",
    "}"
   ]
  },
  {
   "cell_type": "code",
   "execution_count": 680,
   "metadata": {},
   "outputs": [],
   "source": [
    "uinfo_headers = {\n",
    "    'Accept': '*/*',\n",
    "    'Accept-Encoding': 'gzip, deflate, br',\n",
    "    'Accept-Language': 'ko-KR,ko;q=0.9,en-US;q=0.8,en;q=0.7',\n",
    "    'Connection': 'keep-alive',\n",
    "    'Content-Length': '32',\n",
    "    'Content-Type': 'application/x-www-form-urlencoded; charset=UTF-8',\n",
    "    'Host': 'pg-web.kakao.com',\n",
    "    'Origin': 'https://pg-web.kakao.com',\n",
    "    'Referer': 'https://pg-web.kakao.com/v1/6d43e0f7386a04bddc5a11f0c74e69faf18dc8337bbadf87a952bca9f0e7cc38/info',\n",
    "    'User-Agent': 'Mozilla/5.0 (Windows NT 10.0; Win64; x64) AppleWebKit/537.36 (KHTML, like Gecko) Chrome/69.0.3497.100 Safari/537.36',\n",
    "    'X-Requested-With': 'XMLHttpRequest'\n",
    "}"
   ]
  },
  {
   "cell_type": "code",
   "execution_count": 681,
   "metadata": {},
   "outputs": [],
   "source": [
    "uinfo_req = sess.post('https://pg-web.kakao.com/v1/6d43e0f7386a04bddc5a11f0c74e69faf18dc8337bbadf87a952bca9f0e7cc38/uinfo',data = uinfo_info, headers=headers)"
   ]
  },
  {
   "cell_type": "code",
   "execution_count": 683,
   "metadata": {},
   "outputs": [
    {
     "data": {
      "text/plain": [
       "'{\"code\":-999,\"message\":\"내부 서버 오류\",\"client_message\":\"유효시간 초과로 결제할 수 없습니다.<br/>가맹점에서 다시 결제를 요청해주세요.\"}'"
      ]
     },
     "execution_count": 683,
     "metadata": {},
     "output_type": "execute_result"
    }
   ],
   "source": [
    "uinfo_req.text"
   ]
  },
  {
   "cell_type": "code",
   "execution_count": 660,
   "metadata": {},
   "outputs": [
    {
     "data": {
      "text/plain": [
       "b'6d43e0f7386a04bddc5a11f0c74e69faf18dc8337bbadf87a952bca9f0e7cc38'"
      ]
     },
     "execution_count": 660,
     "metadata": {},
     "output_type": "execute_result"
    }
   ],
   "source": [
    "'6d43e0f7386a04bddc5a11f0c74e69faf18dc8337bbadf87a952bca9f0e7cc38'.encode('utf-8')"
   ]
  },
  {
   "cell_type": "code",
   "execution_count": null,
   "metadata": {},
   "outputs": [],
   "source": [
    "https://pg-web.kakao.com/v1/7b00abe44224bf7645c543139f0a42b6b660ffc03d51e86143aea1121d5f1b4f/uinfo"
   ]
  },
  {
   "cell_type": "code",
   "execution_count": 688,
   "metadata": {},
   "outputs": [
    {
     "data": {
      "text/plain": [
       "'6d43'"
      ]
     },
     "execution_count": 688,
     "metadata": {},
     "output_type": "execute_result"
    }
   ],
   "source": []
  },
  {
   "cell_type": "code",
   "execution_count": null,
   "metadata": {},
   "outputs": [],
   "source": []
  }
 ],
 "metadata": {
  "kernelspec": {
   "display_name": "Python 3",
   "language": "python",
   "name": "python3"
  },
  "language_info": {
   "codemirror_mode": {
    "name": "ipython",
    "version": 3
   },
   "file_extension": ".py",
   "mimetype": "text/x-python",
   "name": "python",
   "nbconvert_exporter": "python",
   "pygments_lexer": "ipython3",
   "version": "3.6.4"
  }
 },
 "nbformat": 4,
 "nbformat_minor": 2
}
